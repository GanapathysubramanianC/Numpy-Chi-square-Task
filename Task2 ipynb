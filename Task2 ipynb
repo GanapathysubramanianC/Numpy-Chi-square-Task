{
  "nbformat": 4,
  "nbformat_minor": 0,
  "metadata": {
    "colab": {
      "provenance": []
    },
    "kernelspec": {
      "name": "python3",
      "display_name": "Python 3"
    },
    "language_info": {
      "name": "python"
    }
  },
  "cells": [
    {
      "cell_type": "code",
      "source": [
        "PART - I #Re Visiting #Numpy "
      ],
      "metadata": {
        "id": "IzfyKhTdnGEp"
      },
      "execution_count": null,
      "outputs": []
    },
    {
      "cell_type": "code",
      "execution_count": 6,
      "metadata": {
        "id": "5cWsON5_jkiJ"
      },
      "outputs": [],
      "source": [
        "'''1.The most basic kind of broadcast is with a scalar, in which you can perform a binary\n",
        "operation (e.g., add, multiply, ...) on an array and a scalar, the effect is to perform that\n",
        "operation with the scalar for every element of the array. To try this out, create a vector\n",
        "1, 2, . . . , 10 by adding 1 to the result of the arange function.\n",
        "\n",
        "2.Now, create a 10 × 10 matrix A in which A[i][j] = i + j. You’ll be able to do this using\n",
        "the vector you just created, and adding it to a reshaped version of itself.\n",
        "\n",
        "3. A very common use of broadcasting is to standardize data, i.e., to make it have zero\n",
        "mean and unit variance.\n",
        "a. First, create a fake “data set” with 50 examples, each with five dimensions.\n",
        "b. import numpy.random as npr\n",
        "data = np.exp ( npr.randn(50, 5) )\n",
        "c. Don’t worry too much about what this code is doing at this stage of the\n",
        "course, but for completeness: it imports the NumPy random number\n",
        "generation library, then generates a 50 × 5 matrix of standard normal random\n",
        "variates and exponentiates them. The effect of this is to have a pretend data\n",
        "set of 50 independent and identically-distributed vectors from a log-normal\n",
        "distribution.\n",
        "\n",
        "4. Now, compute the mean and standard deviation of each column. This should result in\n",
        "two vectors of length 5. You’ll need to think a little bit about how to use the axis\n",
        "argument to mean and std. Store these vectors into variables and print both of them.\n",
        "\n",
        "5. Now standardize the data matrix by 1) subtracting the mean off of each column, and\n",
        "2) dividing each column by its standard deviation. Do this via broadcasting, and store\n",
        "the result in a matrix called normalized. To verify that you successfully did it, compute\n",
        "the mean and standard deviation of the columns of normalized and print them out.''''\n",
        "\n"
      ]
    },
    {
      "cell_type": "code",
      "source": [
        "import numpy as np\n",
        "\n",
        "# create a vector containing the numbers 1 through 10\n",
        "vec = np.arange(1, 11)\n",
        "\n",
        "# print the vector\n",
        "print(vec)\n"
      ],
      "metadata": {
        "id": "u_lMHmksH46M",
        "colab": {
          "base_uri": "https://localhost:8080/"
        },
        "outputId": "8735a966-51c1-4d04-8256-3a4b574faead"
      },
      "execution_count": null,
      "outputs": [
        {
          "output_type": "stream",
          "name": "stdout",
          "text": [
            "[ 1  2  3  4  5  6  7  8  9 10]\n"
          ]
        }
      ]
    },
    {
      "cell_type": "code",
      "source": [],
      "metadata": {
        "id": "So96sKeCk45e"
      },
      "execution_count": null,
      "outputs": []
    },
    {
      "cell_type": "code",
      "source": [
        "import numpy as np\n",
        "\n",
        "# Create a vector containing the numbers 1 to 10\n",
        "vector = np.arange(1, 11) + 1\n",
        "\n",
        "# Create a 10x10 matrix in which the value of each element is the sum of its row and column indices\n",
        "matrix = np.add(vector, np.broadcast_to(vector.reshape(-1, 1), (10, 10)).T)\n",
        "print(matrix)\n",
        "# Output:\n",
        "# [[ 2  3  4  5  6  7  8  9 10 11]\n",
        "#  [ 3  4  5  6  7  8  9 10 11 12]\n",
        "#  [ 4  5  6  7  8  9 10 11 12 13]\n",
        "#  [ 5  6  7  8  9 10 11 12 13 14]\n",
        "#  [ 6  7  8  9 10 11 12 13 14 15]\n",
        "#  [ 7  8  9 10 11 12 13 14 15 16]\n",
        "#  [ 8  9 10 11 12 13 14 15 16 17]\n",
        "#  [ 9 10 11 12 13 14 15 16 17 18]\n",
        "#  [10 11 12 13 14 15 16 17 18 19]\n",
        "#  [11 12 13 14 15 16 17 18 19 20]]\n",
        "\n"
      ],
      "metadata": {
        "colab": {
          "base_uri": "https://localhost:8080/"
        },
        "id": "Bnnl424LlZri",
        "outputId": "a4e4e9bd-e0c8-4c1b-e2d0-695cbfd34058"
      },
      "execution_count": null,
      "outputs": [
        {
          "output_type": "stream",
          "name": "stdout",
          "text": [
            "[[ 4  6  8 10 12 14 16 18 20 22]\n",
            " [ 4  6  8 10 12 14 16 18 20 22]\n",
            " [ 4  6  8 10 12 14 16 18 20 22]\n",
            " [ 4  6  8 10 12 14 16 18 20 22]\n",
            " [ 4  6  8 10 12 14 16 18 20 22]\n",
            " [ 4  6  8 10 12 14 16 18 20 22]\n",
            " [ 4  6  8 10 12 14 16 18 20 22]\n",
            " [ 4  6  8 10 12 14 16 18 20 22]\n",
            " [ 4  6  8 10 12 14 16 18 20 22]\n",
            " [ 4  6  8 10 12 14 16 18 20 22]]\n"
          ]
        }
      ]
    },
    {
      "cell_type": "code",
      "source": [],
      "metadata": {
        "id": "jXLHzYzfm3Oa"
      },
      "execution_count": null,
      "outputs": []
    },
    {
      "cell_type": "code",
      "source": [
        "import numpy as np\n",
        "\n",
        "# Create a fake \"data set\" with 50 examples, each with five dimensions\n",
        "data = np.exp(np.random.randn(50, 5))\n",
        "\n",
        "# Compute the mean and standard deviation of each column\n",
        "mean = np.mean(data, axis=0)\n",
        "std = np.std(data, axis=0)\n",
        "print(mean)\n",
        "# Output: [2.48890215 2.37980171 2.44472551 2.34231599 2.37892645]\n",
        "print(std)\n",
        "# Output: [1.76707197 1.73924205 1.76307255 1.7062675  1.72438273]\n",
        "\n",
        "# Standardize the data matrix by subtracting the mean of each column and dividing by its standard deviation\n",
        "normalized = (data - mean) / std\n",
        "print(normalized)\n"
      ],
      "metadata": {
        "colab": {
          "base_uri": "https://localhost:8080/"
        },
        "id": "LeEYxMKAm9rX",
        "outputId": "f471247f-96ef-4154-8dae-1d1c2e4f22ea"
      },
      "execution_count": null,
      "outputs": [
        {
          "output_type": "stream",
          "name": "stdout",
          "text": [
            "[1.46631405 2.4166557  1.95376378 1.46151043 1.44247488]\n",
            "[1.4561885  2.68014257 2.26619069 1.55363096 1.45490413]\n",
            "[[-0.7860092  -0.65405291  0.28471073 -0.88249504 -0.62101049]\n",
            " [-0.57697464 -0.32988416  0.55872377  0.08319934  0.65915842]\n",
            " [-0.29696337  0.06471829  2.2277333   1.61255391 -0.91131027]\n",
            " [ 0.17608732 -0.43727367 -0.83315913 -0.32982226 -0.35644459]\n",
            " [-0.63672375 -0.13276122 -0.68854675 -0.32086552 -0.80181487]\n",
            " [ 4.79555859  0.30425462  0.48884974 -0.60149535  0.1267435 ]\n",
            " [-0.21029531  1.42567262 -0.71608708 -0.72380321 -0.21006964]\n",
            " [-0.39672575 -0.31940275 -0.32484239  0.19661765  0.74492245]\n",
            " [-0.4607406   1.36659062 -0.33615038  0.19153163 -0.92664506]\n",
            " [-0.58649955 -0.25808525 -0.43916335 -0.31756754 -0.19703872]\n",
            " [-0.93254324  2.80271755 -0.68520738  0.59500275  0.09688413]\n",
            " [ 0.43722269 -0.72065605 -0.73594838 -0.81717266 -0.29552013]\n",
            " [ 1.97393505 -0.2878233  -0.46192626  1.18949523 -0.75481664]\n",
            " [ 0.45440174 -0.68201284 -0.20844025 -0.37880464 -0.02864603]\n",
            " [-0.72743062  2.69357338 -0.46282793 -0.75821402 -0.45630829]\n",
            " [-0.64497608 -0.55636267  0.37385388 -0.1060803  -0.71348987]\n",
            " [-0.47375845 -0.67815563 -0.35389214  0.20515563  0.52064367]\n",
            " [-0.50916625  1.93445351  0.70701411 -0.76584621  0.83505852]\n",
            " [ 0.07064662 -0.39041217 -0.46391746 -0.62128165  0.26763376]\n",
            " [-0.28594883  1.93305983 -0.3122951   0.46591982 -0.83521013]\n",
            " [-0.58177025  0.96474796  1.14567098 -0.55230268 -0.27735671]\n",
            " [ 0.91370536 -0.83642505 -0.64017028 -0.331066    0.3155642 ]\n",
            " [-0.04369963 -0.45357147 -0.48299228 -0.43899382  0.02389635]\n",
            " [ 0.64627757 -0.41719825 -0.00554076 -0.53594932 -0.73008422]\n",
            " [-0.8162205   0.63181958 -0.25270615 -0.14701028  2.41560033]\n",
            " [-0.85046267  0.76291288 -0.75048979 -0.70869152 -0.14059292]\n",
            " [ 1.29670908 -0.69171121  0.21044599  0.40145109 -0.18088108]\n",
            " [-0.02010982 -0.81880823 -0.55578243  2.07695907  0.41368441]\n",
            " [-0.24395176 -0.48411263 -0.49935047 -0.67178866 -0.7829349 ]\n",
            " [ 0.39389083 -0.12014042  0.17771095 -0.78704862  0.38352678]\n",
            " [-0.09477914 -0.76068281 -0.37423338  0.3796759  -0.69737503]\n",
            " [ 0.5368855  -0.35078209 -0.13454224  1.44985336  0.85905771]\n",
            " [-0.69140661 -0.35505833 -0.52676323 -0.68415704 -0.27169292]\n",
            " [-0.90687883 -0.77497302 -0.50142087 -0.09427765  5.16272046]\n",
            " [ 1.11097154 -0.82963229 -0.402455   -0.50339659 -0.92875673]\n",
            " [-0.30850202 -0.73652051 -0.52676534 -0.59458243 -0.63950497]\n",
            " [ 1.63395992 -0.71675599  3.85403301 -0.11047149  0.27482866]\n",
            " [-0.49370273 -0.63164565  0.27319637 -0.43347233  0.19169831]\n",
            " [-0.32760708  1.97512021 -0.74043056  0.566866   -0.67403153]\n",
            " [-0.5851527   1.50353747 -0.77743465 -0.36991325 -0.32285864]\n",
            " [-0.71935174 -0.60382126  2.82363259  0.1183305   0.91742547]\n",
            " [-0.73781875  1.64855079  0.6471827  -0.79733123 -0.90852063]\n",
            " [-0.81890953 -0.6447347   0.64621983 -0.5623283   1.3326792 ]\n",
            " [ 0.19041004 -0.49597136 -0.21457814  4.73601317 -0.50890342]\n",
            " [-0.63258847 -0.81947626 -0.78642375  0.33913776 -0.03545143]\n",
            " [ 0.3849514  -0.75340515 -0.7128843  -0.48004236 -0.58983717]\n",
            " [ 1.53304577 -0.65553803 -0.33325414  0.16471276 -0.59140833]\n",
            " [ 1.16891209 -0.79500255 -0.4301354  -0.82035487 -0.10723335]\n",
            " [-0.5704133  -0.4714535  -0.67898634 -0.75656002  0.72130109]\n",
            " [-0.74948996 -0.34742591  2.93076559  2.23071125 -0.76727872]]\n"
          ]
        }
      ]
    },
    {
      "cell_type": "code",
      "source": [
        "PART - II #Performing the Hypothesis testing using the Chi-squared test"
      ],
      "metadata": {
        "id": "GwzcGsT1nKN-"
      },
      "execution_count": null,
      "outputs": []
    },
    {
      "cell_type": "code",
      "source": [
        "'''The table below is a survey response to 4 categorical variables: people in categories from\n",
        "18–29, 30–44, 45–64 and >65 years, and their movie genre inclination, which is\n",
        "“Action/Adventure”, “Romance” and “Biography”. Is there any evidence of a relationship\n",
        "between the age group and their movie genre inclination, at 5% significance level?\n",
        "\n",
        "      Action/Adventure Romance Biography Total\n",
        "18-29       141          68      4        213\n",
        "30-44       179         159      7        345\n",
        "45-64       220         216      4        440\n",
        "65&older     86         101      4        191\n",
        "Total       626         544     19       1189'''"
      ],
      "metadata": {
        "id": "04rs7G8Eo6od"
      },
      "execution_count": null,
      "outputs": []
    },
    {
      "cell_type": "code",
      "source": [
        "# Import necessary libraries\n",
        "import numpy as np\n",
        "from scipy.stats import chi2_contingency\n",
        "\n",
        "# Define the contingency table\n",
        "data = np.array([[141, 68, 4],\n",
        "                 [179, 159, 7],\n",
        "                 [220, 216, 4],\n",
        "                 [86, 101, 4]])\n",
        "\n",
        "# Perform the chi-squared test\n",
        "chi2, p, dof, expected = chi2_contingency(data)\n",
        "\n",
        "# Print the p-value\n",
        "print(p)\n"
      ],
      "metadata": {
        "colab": {
          "base_uri": "https://localhost:8080/"
        },
        "id": "SLhhNU8PnNLq",
        "outputId": "f4e42ff3-4cc5-49ca-d2f5-663e515df568"
      },
      "execution_count": null,
      "outputs": [
        {
          "output_type": "stream",
          "name": "stdout",
          "text": [
            "0.00044690833914947634\n"
          ]
        }
      ]
    }
  ]
}